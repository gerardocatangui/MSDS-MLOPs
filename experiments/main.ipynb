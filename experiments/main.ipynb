{
 "cells": [
  {
   "cell_type": "code",
   "execution_count": null,
   "id": "ee525f43",
   "metadata": {},
   "outputs": [],
   "source": [
    "load_data_code = \"\"\"\n",
    "import pandas as pd\n",
    "from pyspark.sql import SparkSession\n",
    "\n",
    "def load_data(query: str):\n",
    "    spark = SparkSession.builder.appName(\"EnergyProductionForecast\").getOrCreate()\n",
    "    df = spark.sql(query).toPandas()\n",
    "    return df\n",
    "\"\"\"\n",
    "\n",
    "with open(f\"{base_dir}/data/load_data.py\", \"w\", encoding=\"utf-8\") as f:\n",
    "    f.write(load_data_code)"
   ]
  },
  {
   "cell_type": "code",
   "execution_count": null,
   "id": "46b79ad2",
   "metadata": {},
   "outputs": [],
   "source": [
    "# Data Preprocessing: preprocess.py\n",
    "preprocess_code = \"\"\"\n",
    "import pandas as pd\n",
    "\n",
    "def preprocess_data(df, date_column: str):\n",
    "    df[date_column] = pd.to_datetime(df[date_column])\n",
    "    df = df.dropna()\n",
    "    return df\n",
    "\"\"\"\n",
    "\n",
    "with open(f\"{base_dir}/data/preprocess.py\", \"w\", encoding=\"utf-8\") as f:\n",
    "    f.write(preprocess_code)"
   ]
  },
  {
   "cell_type": "code",
   "execution_count": null,
   "id": "c1db8739",
   "metadata": {},
   "outputs": [],
   "source": [
    "# Feature Engineering: build_features.py\n",
    "build_features_code = \"\"\"\n",
    "def create_lagged_features(df, column: str, lags: int):\n",
    "    for lag in range(1, lags + 1):\n",
    "        df[f\"{column}_lag_{lag}\"] = df[column].shift(lag)\n",
    "    return df.dropna()\n",
    "\"\"\"\n",
    "\n",
    "with open(f\"{base_dir}/features/build_features.py\", \"w\", encoding=\"utf-8\") as f:\n",
    "    f.write(build_features_code)"
   ]
  },
  {
   "cell_type": "code",
   "execution_count": null,
   "id": "d6fbea63",
   "metadata": {},
   "outputs": [],
   "source": [
    "# Model Training: train_model.py\n",
    "train_model_code = \"\"\"\n",
    "from neuralprophet import NeuralProphet\n",
    "\n",
    "def train_model(df, n_lags: int, n_forecasts: int, quantiles: list):\n",
    "    model = NeuralProphet(n_lags=n_lags, n_forecasts=n_forecasts, quantiles=quantiles)\n",
    "    metrics = model.fit(df, freq='H', valid_p=0.2)\n",
    "    return model, metrics\n",
    "\"\"\"\n",
    "\n",
    "with open(f\"{base_dir}/models/train_model.py\", \"w\", encoding=\"utf-8\") as f:\n",
    "    f.write(train_model_code)"
   ]
  },
  {
   "cell_type": "code",
   "execution_count": null,
   "id": "3d04c59b",
   "metadata": {},
   "outputs": [],
   "source": [
    "# Model Evaluation: evaluate_model.py\n",
    "evaluate_model_code = \"\"\"\n",
    "from sklearn.metrics import mean_squared_error\n",
    "\n",
    "def evaluate_model(actuals, predictions):\n",
    "    return mean_squared_error(actuals, predictions, squared=False)\n",
    "\"\"\"\n",
    "\n",
    "with open(f\"{base_dir}/models/evaluate_model.py\", \"w\", encoding=\"utf-8\") as f:\n",
    "    f.write(evaluate_model_code)"
   ]
  },
  {
   "cell_type": "code",
   "execution_count": null,
   "id": "48c7d262",
   "metadata": {},
   "outputs": [],
   "source": [
    "# Model Prediction: predict.py\n",
    "predict_code = \"\"\"\n",
    "def predict_future(model, df, periods: int):\n",
    "    future = model.make_future_dataframe(df, periods=periods)\n",
    "    forecast = model.predict(future)\n",
    "    return forecast\n",
    "\"\"\"\n",
    "\n",
    "with open(f\"{base_dir}/models/predict.py\", \"w\", encoding=\"utf-8\") as f:\n",
    "    f.write(predict_code)"
   ]
  },
  {
   "cell_type": "code",
   "execution_count": null,
   "id": "943326f7",
   "metadata": {},
   "outputs": [],
   "source": [
    "# Logging Utility: logging.py\n",
    "logging_code = \"\"\"\n",
    "import logging\n",
    "\n",
    "def setup_logging(log_file: str = \"app.log\"):\n",
    "    logging.basicConfig(\n",
    "        filename=log_file,\n",
    "        level=logging.INFO,\n",
    "        format=\"%(asctime)s - %(levelname)s - %(message)s\",\n",
    "    )\n",
    "    return logging.getLogger()\n",
    "\"\"\"\n",
    "\n",
    "with open(f\"{base_dir}/utils/logging.py\", \"w\", encoding=\"utf-8\") as f:\n",
    "    f.write(logging_code)"
   ]
  },
  {
   "cell_type": "code",
   "execution_count": null,
   "id": "df97c3b4",
   "metadata": {},
   "outputs": [],
   "source": [
    "# Config File: config.py\n",
    "config_code = \"\"\"\n",
    "CONFIG = {\n",
    "    \"data_query\": \"SELECT * FROM plant_ops.mao_forecast.gesq_accuweather ORDER BY CALENDAR_DATE\",\n",
    "    \"date_column\": \"CALENDAR_DATE\",\n",
    "    \"target_column\": \"target_column\",\n",
    "    \"lags\": 15,\n",
    "    \"n_forecasts\": 15,\n",
    "    \"quantiles\": [0.05, 0.5, 0.95],\n",
    "}\n",
    "\"\"\""
   ]
  }
 ],
 "metadata": {
  "kernelspec": {
   "display_name": "Python 3",
   "language": "python",
   "name": "python3"
  },
  "language_info": {
   "codemirror_mode": {
    "name": "ipython",
    "version": 3
   },
   "file_extension": ".py",
   "mimetype": "text/x-python",
   "name": "python",
   "nbconvert_exporter": "python",
   "pygments_lexer": "ipython3",
   "version": "3.8.8"
  }
 },
 "nbformat": 4,
 "nbformat_minor": 5
}
