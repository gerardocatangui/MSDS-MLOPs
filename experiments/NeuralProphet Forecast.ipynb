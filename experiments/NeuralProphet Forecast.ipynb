{
 "cells": [
  {
   "cell_type": "markdown",
   "metadata": {},
   "source": [
    "### Python Depencies"
   ]
  },
  {
   "cell_type": "code",
   "execution_count": null,
   "metadata": {
    "application/vnd.databricks.v1+cell": {
     "cellMetadata": {
      "byteLimit": 2048000,
      "rowLimit": 10000
     },
     "inputWidgets": {},
     "nuid": "61cee36c-aa15-4012-be66-06f51ff19115",
     "showTitle": false,
     "tableResultSettingsMap": {},
     "title": ""
    }
   },
   "outputs": [],
   "source": [
    "import numpy as np\n",
    "import pandas as pd\n",
    "import matplotlib.pyplot as matplotlib\n",
    "\n",
    "import datetime as dt"
   ]
  },
  {
   "cell_type": "code",
   "execution_count": null,
   "metadata": {
    "application/vnd.databricks.v1+cell": {
     "cellMetadata": {
      "byteLimit": 2048000,
      "rowLimit": 10000
     },
     "inputWidgets": {},
     "nuid": "9b3f10c3-b5bb-45d3-a6f1-5dea25dc88a6",
     "showTitle": false,
     "tableResultSettingsMap": {},
     "title": ""
    }
   },
   "outputs": [],
   "source": [
    "from neuralprophet import NeuralProphet, uncertainty_evaluate, set_log_level, set_random_seed\n",
    "\n",
    "# Disable logging messages unless there is an error\n",
    "set_log_level(\"ERROR\")"
   ]
  },
  {
   "cell_type": "code",
   "execution_count": null,
   "metadata": {
    "application/vnd.databricks.v1+cell": {
     "cellMetadata": {
      "byteLimit": 2048000,
      "rowLimit": 10000
     },
     "inputWidgets": {},
     "nuid": "e8d492b0-63e9-4bd0-bc46-859e0fb65255",
     "showTitle": false,
     "tableResultSettingsMap": {},
     "title": ""
    }
   },
   "outputs": [],
   "source": [
    "from neuralprophet import set_random_seed\n",
    "\n",
    "set_random_seed(0)"
   ]
  },
  {
   "cell_type": "markdown",
   "metadata": {},
   "source": [
    "### Data Source"
   ]
  },
  {
   "cell_type": "code",
   "execution_count": null,
   "metadata": {
    "application/vnd.databricks.v1+cell": {
     "cellMetadata": {
      "byteLimit": 2048000,
      "rowLimit": 10000
     },
     "inputWidgets": {},
     "nuid": "07eeb87a-8a47-49f6-9226-8720c2b5b924",
     "showTitle": false,
     "tableResultSettingsMap": {},
     "title": ""
    }
   },
   "outputs": [],
   "source": [
    "df = pd.read_csv(data.csv, index=True)\n",
    "df.head()"
   ]
  },
  {
   "cell_type": "code",
   "execution_count": null,
   "metadata": {
    "application/vnd.databricks.v1+cell": {
     "cellMetadata": {
      "byteLimit": 2048000,
      "rowLimit": 10000
     },
     "inputWidgets": {},
     "nuid": "941471c8-a629-49d6-a30f-c7bc5ece5d7d",
     "showTitle": false,
     "tableResultSettingsMap": {},
     "title": ""
    }
   },
   "outputs": [],
   "source": [
    "df_fcst = df.copy()\n",
    "df_fcst.drop_duplicates(subset=['ds'], inplace=True)"
   ]
  },
  {
   "cell_type": "markdown",
   "metadata": {
    "application/vnd.databricks.v1+cell": {
     "cellMetadata": {
      "byteLimit": 2048000,
      "rowLimit": 10000
     },
     "inputWidgets": {},
     "nuid": "2f1219b0-f627-4196-9447-85aea70400da",
     "showTitle": false,
     "tableResultSettingsMap": {},
     "title": ""
    }
   },
   "source": [
    "### Forecast Modelling"
   ]
  },
  {
   "cell_type": "code",
   "execution_count": null,
   "metadata": {
    "application/vnd.databricks.v1+cell": {
     "cellMetadata": {
      "byteLimit": 2048000,
      "rowLimit": 10000
     },
     "inputWidgets": {},
     "nuid": "1328f0cc-d61d-44b1-8af5-ec0eb2d559e8",
     "showTitle": false,
     "tableResultSettingsMap": {},
     "title": ""
    }
   },
   "outputs": [],
   "source": [
    "m = NeuralProphet(epochs=10)\n",
    "\n",
    "train_df, test_df = m.split_df(df_fcst, freq=\"H\", valid_p=1.0 / 16)\n",
    "train_df.shape, test_df.shape"
   ]
  },
  {
   "cell_type": "code",
   "execution_count": null,
   "metadata": {
    "application/vnd.databricks.v1+cell": {
     "cellMetadata": {
      "byteLimit": 2048000,
      "rowLimit": 10000
     },
     "inputWidgets": {},
     "nuid": "eaa3100f-5c65-417c-ade8-31521361e06a",
     "showTitle": false,
     "tableResultSettingsMap": {},
     "title": ""
    }
   },
   "outputs": [],
   "source": [
    "# NeuralProphet only accepts quantiles value in between 0 and 1\n",
    "# Parameter for quantile regression\n",
    "confidence_lv = 0.9\n",
    "quantile_list = [round(((1 - confidence_lv) / 2), 2), round((confidence_lv + (1 - confidence_lv) / 2), 2)]"
   ]
  },
  {
   "cell_type": "code",
   "execution_count": null,
   "metadata": {
    "application/vnd.databricks.v1+cell": {
     "cellMetadata": {
      "byteLimit": 2048000,
      "rowLimit": 10000
     },
     "inputWidgets": {},
     "nuid": "9ca09796-e1a8-4a4e-8f4a-cc0bd2f06bd6",
     "showTitle": false,
     "tableResultSettingsMap": {},
     "title": ""
    }
   },
   "outputs": [],
   "source": [
    "model = NeuralProphet(growth='off',\n",
    "                  seasonality_mode=\"additive\",\n",
    "                  #n_changepoints=60,\n",
    "                  yearly_seasonality=True,\n",
    "                  weekly_seasonality=True,\n",
    "                  daily_seasonality=True,\n",
    "                  loss_func='MAE',\n",
    "                  n_forecasts=90*24,\n",
    "                  n_lags=180*24,\n",
    "                  ar_layers=[64,64,64,64],\n",
    "                  learning_rate=0.001,\n",
    "                  collect_metrics=['MSE', 'MAE', 'RMSE'],\n",
    "                  )\n",
    "\n",
    "#m.set_plotting_backend(\"plotly-static\")  # show plots correctly in jupyter notebooks\n",
    "\n",
    "# Add Lagged Regressors\n",
    "model.add_lagged_regressor(\"SOLAR_IRRADIANCE\", n_lags=30*24)\n",
    "model.add_lagged_regressor(\"CLOUD_COVER_TOTAL\", n_lags=7*24)\n",
    "\n",
    "metrics = model.fit(df_fcst, freq=\"H\", progress=\"plot\")"
   ]
  },
  {
   "cell_type": "code",
   "execution_count": null,
   "metadata": {
    "application/vnd.databricks.v1+cell": {
     "cellMetadata": {
      "byteLimit": 2048000,
      "rowLimit": 10000
     },
     "inputWidgets": {},
     "nuid": "1ac24468-bf69-49b9-8434-7cb941b0e6f9",
     "showTitle": false,
     "tableResultSettingsMap": {},
     "title": ""
    }
   },
   "outputs": [],
   "source": [
    "future = model.make_future_dataframe(df_fcst, \n",
    "                                     regressors_df=df_fcst, \n",
    "                                     periods=15*24, \n",
    "                                     n_historic_predictions=True)\n",
    "\n",
    "future['SOLAR_IRRADIANCE'] = future['SOLAR_IRRADIANCE'].astype('float64')\n",
    "\n",
    "forecast = model.predict(df=future)\n",
    "\n",
    "model.highlight_nth_step_ahead_of_each_forecast(15*24)\n",
    "fig_forecast = model.plot(forecast)\n",
    "\n",
    "# Display the plot\n",
    "display(fig_forecast)"
   ]
  },
  {
   "cell_type": "markdown",
   "metadata": {
    "application/vnd.databricks.v1+cell": {
     "cellMetadata": {
      "byteLimit": 2048000,
      "rowLimit": 10000
     },
     "inputWidgets": {},
     "nuid": "13ac5328-49d1-4ab0-a938-0e9d5877f1d9",
     "showTitle": false,
     "tableResultSettingsMap": {},
     "title": ""
    }
   },
   "source": [
    "### Model Metrics"
   ]
  },
  {
   "cell_type": "code",
   "execution_count": null,
   "metadata": {
    "application/vnd.databricks.v1+cell": {
     "cellMetadata": {
      "byteLimit": 2048000,
      "rowLimit": 10000
     },
     "inputWidgets": {},
     "nuid": "48ae37eb-c106-4189-bb41-158e0e7ee616",
     "showTitle": false,
     "tableResultSettingsMap": {},
     "title": ""
    }
   },
   "outputs": [],
   "source": [
    "metrics.tail()"
   ]
  },
  {
   "cell_type": "code",
   "execution_count": null,
   "metadata": {
    "application/vnd.databricks.v1+cell": {
     "cellMetadata": {
      "byteLimit": 2048000,
      "rowLimit": 10000
     },
     "inputWidgets": {},
     "nuid": "06c29a9e-5953-4b8b-add4-0214ae75482c",
     "showTitle": false,
     "tableResultSettingsMap": {},
     "title": ""
    }
   },
   "outputs": [],
   "source": [
    "df_residuals = pd.DataFrame({\"ds\": df_fcst[\"ds\"], \"residuals\": df_fcst[\"y\"] - forecast[\"yhat1\"]})\n",
    "fig = df_residuals.plot(x=\"ds\", y=\"residuals\", figsize=(10, 6))"
   ]
  }
 ],
 "metadata": {
  "application/vnd.databricks.v1+notebook": {
   "computePreferences": null,
   "dashboards": [],
   "environmentMetadata": null,
   "language": "python",
   "notebookMetadata": {
    "mostRecentlyExecutedCommandWithImplicitDF": {
     "commandId": 2106237286656074,
     "dataframes": [
      "_sqldf"
     ]
    },
    "pythonIndentUnit": 4
   },
   "notebookName": "Multivariate NeuralProphet Solar GESQ D+15 HOURLY Forecast Resolution with Quantile Regression",
   "widgets": {}
  },
  "kernelspec": {
   "display_name": "Python 3",
   "language": "python",
   "name": "python3"
  },
  "language_info": {
   "codemirror_mode": {
    "name": "ipython",
    "version": 3
   },
   "file_extension": ".py",
   "mimetype": "text/x-python",
   "name": "python",
   "nbconvert_exporter": "python",
   "pygments_lexer": "ipython3",
   "version": "3.8.8"
  }
 },
 "nbformat": 4,
 "nbformat_minor": 1
}
