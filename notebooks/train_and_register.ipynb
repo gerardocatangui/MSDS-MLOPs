{
 "cells": [
  {
   "cell_type": "code",
   "execution_count": null,
   "metadata": {
    "vscode": {
     "languageId": "plaintext"
    }
   },
   "outputs": [],
   "source": [
    "# train_and_register.ipynb\n",
    "\n",
    "import mlflow\n",
    "import mlflow.sklearn\n",
    "import pandas as pd\n",
    "from sklearn.datasets import load_iris\n",
    "from sklearn.model_selection import train_test_split\n",
    "from sklearn.ensemble import RandomForestClassifier\n",
    "\n",
    "# 1. Set MLflow tracking URI\n",
    "mlflow.set_tracking_uri(\"http://localhost:5000\")  # or the Docker service name 'mlflow:5000' if running inside container\n",
    "\n",
    "# 2. Prepare data\n",
    "iris = load_iris()\n",
    "X = pd.DataFrame(iris.data, columns=iris.feature_names)\n",
    "y = iris.target\n",
    "\n",
    "# Let's only keep two classes for simplicity (e.g., 0 or 1).\n",
    "X = X[y != 2]\n",
    "y = y[y != 2]\n",
    "\n",
    "X_train, X_test, y_train, y_test = train_test_split(X, y, random_state=42)\n",
    "\n",
    "# 3. Start MLflow experiment & train model\n",
    "experiment_name = \"my_experiment\"\n",
    "mlflow.set_experiment(experiment_name)\n",
    "\n",
    "with mlflow.start_run(run_name=\"rf-run\"):\n",
    "    # Hyperparameters\n",
    "    n_estimators = 50\n",
    "    max_depth = 5\n",
    "\n",
    "    rf = RandomForestClassifier(n_estimators=n_estimators, max_depth=max_depth, random_state=42)\n",
    "    rf.fit(X_train, y_train)\n",
    "\n",
    "    # Evaluate\n",
    "    accuracy = rf.score(X_test, y_test)\n",
    "\n",
    "    # 4. Log params, metrics\n",
    "    mlflow.log_param(\"n_estimators\", n_estimators)\n",
    "    mlflow.log_param(\"max_depth\", max_depth)\n",
    "    mlflow.log_metric(\"accuracy\", accuracy)\n",
    "\n",
    "    # 5. Log model\n",
    "    mlflow.sklearn.log_model(rf, artifact_path=\"model\", registered_model_name=\"my_sklearn_model\")\n",
    "\n",
    "    # The model is now in the \"my_sklearn_model\" name in the registry.\n",
    "    # You can transition it to Production or Staging manually in MLflow UI, or programmatically:\n",
    "    # from mlflow.tracking import MlflowClient\n",
    "    # client = MlflowClient()\n",
    "    # client.transition_model_version_stage(\n",
    "    #     name=\"my_sklearn_model\",\n",
    "    #     version=1,\n",
    "    #     stage=\"Production\"\n",
    "    # )\n",
    "\n",
    "    print(f\"Model logged with accuracy: {accuracy}\")"
   ]
  }
 ],
 "metadata": {
  "language_info": {
   "name": "python"
  }
 },
 "nbformat": 4,
 "nbformat_minor": 2
}
