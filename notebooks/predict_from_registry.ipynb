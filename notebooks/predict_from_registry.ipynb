{
 "cells": [
  {
   "cell_type": "code",
   "execution_count": null,
   "metadata": {
    "vscode": {
     "languageId": "plaintext"
    }
   },
   "outputs": [],
   "source": [
    "import mlflow\n",
    "import pandas as pd\n",
    "\n",
    "# Connect to MLflow server\n",
    "mlflow.set_tracking_uri(\"http://localhost:5000\")\n",
    "\n",
    "# Load the model from registry\n",
    "model_uri = \"models:/my_sklearn_model/Production\"  # or \"Staging\"\n",
    "model = mlflow.pyfunc.load_model(model_uri)\n",
    "\n",
    "# Create some dummy data\n",
    "df = pd.DataFrame({\n",
    "    \"feature1\": [5.1, 4.9],\n",
    "    \"feature2\": [3.5, 3.0],\n",
    "    \"feature3\": [1.4, 1.4],\n",
    "    \"feature4\": [0.2, 0.2]\n",
    "})\n",
    "\n",
    "# Predict\n",
    "preds = model.predict(df)\n",
    "print(preds)"
   ]
  }
 ],
 "metadata": {
  "language_info": {
   "name": "python"
  }
 },
 "nbformat": 4,
 "nbformat_minor": 2
}
