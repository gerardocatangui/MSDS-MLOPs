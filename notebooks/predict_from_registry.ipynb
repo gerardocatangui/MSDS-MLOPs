{
 "cells": [
  {
   "cell_type": "code",
   "execution_count": null,
   "metadata": {},
   "outputs": [],
   "source": [
    "import mlflow\n",
    "import pandas as pd\n",
    "\n",
    "# Connect to MLflow server\n",
    "mlflow.set_tracking_uri(\"http://localhost:5000\")\n",
    "\n",
    "# Load the model from registry\n",
    "model_uri = \"models:/my_sklearn_model/Production\"\n",
    "\n",
    "model = mlflow.pyfunc.load_model(model_uri)\n",
    "\n",
    "# Create some dummy data\n",
    "df = pd.DataFrame({\n",
    "    \"feature1\": [5.1, 4.9],\n",
    "    \"feature2\": [3.5, 3.0],\n",
    "})\n",
    "\n",
    "# Predict\n",
    "preds = model.predict(df)\n",
    "print(preds)"
   ]
  }
 ],
 "metadata": {
  "kernelspec": {
   "display_name": "Python 3",
   "language": "python",
   "name": "python3"
  },
  "language_info": {
   "name": "python",
   "version": "3.11.9"
  }
 },
 "nbformat": 4,
 "nbformat_minor": 2
}
